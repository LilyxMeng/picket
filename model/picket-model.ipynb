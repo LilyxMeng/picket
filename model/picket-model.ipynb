{
 "cells": [
  {
   "cell_type": "code",
   "execution_count": 35,
   "source": [
    "import os\n",
    "import numpy as np\n",
    "import torch\n",
    "import torchvision\n",
    "import torch.nn as nn\n",
    "from PIL import Image\n",
    "from pathlib import Path"
   ],
   "outputs": [],
   "metadata": {}
  },
  {
   "cell_type": "code",
   "execution_count": 46,
   "source": [
    "import matplotlib.pyplot as plt\n",
    "import matplotlib.image as mpimg\n",
    "\n",
    "%matplotlib inline"
   ],
   "outputs": [],
   "metadata": {}
  },
  {
   "cell_type": "code",
   "execution_count": 4,
   "source": [
    "classes =  [\"cardboard\", \"glass\", \"metal\", \"paper\", \"plastic\", \"trash\"]"
   ],
   "outputs": [],
   "metadata": {}
  },
  {
   "cell_type": "code",
   "execution_count": 85,
   "source": [
    "root_dir = Path(r\"garbage-classification-dataset/garbage-classification\")\n",
    "\n",
    "training = []\n",
    "training_ids = []\n",
    "testing = []\n",
    "testing_ids = []\n",
    "\n",
    "for classe in classes:\n",
    "    class_id = classes.index(classe) #for each in classes list, find the index of it\n",
    "    files = root_dir.glob(\"{classe}/*.jpg\".format(classe=classe)) #iterate through all class folders to get imgs\n",
    "    files = sorted(files) #turn them to sorted list\n",
    "    for file in files[:len(files)*4//5]: #split the data into 4/5 training\n",
    "        with open(file, 'rb') as f:\n",
    "            if plt.imread(f).T.shape == (3, 512, 384):\n",
    "                training.append(plt.imread(f).T) #add the image transposed into (384, 512, 3)\n",
    "                training_ids.append(class_id) #append corresponding picture to training labels\n",
    "\n",
    "    for file2 in files[len(files)*4//5:]: #split data into 1/5 traing\n",
    "        with open(file2, 'rb') as f2:\n",
    "            if plt.imread(f2).T.shape == (3, 512, 384):\n",
    "                testing.append(plt.imread(f2).T)\n",
    "                testing_ids.append(class_id)\n",
    " \n",
    "    \n",
    "  "
   ],
   "outputs": [],
   "metadata": {}
  },
  {
   "cell_type": "code",
   "execution_count": 87,
   "source": [
    "training = np.asarray([training])\n",
    "testing = np.asarray([testing])"
   ],
   "outputs": [],
   "metadata": {}
  },
  {
   "cell_type": "code",
   "execution_count": 88,
   "source": [
    "#plt.imshow(training[-1].T)\n",
    "#plt.show()\n",
    "training.shape"
   ],
   "outputs": [
    {
     "output_type": "execute_result",
     "data": {
      "text/plain": [
       "(1, 2019, 3, 512, 384)"
      ]
     },
     "metadata": {},
     "execution_count": 88
    }
   ],
   "metadata": {}
  },
  {
   "cell_type": "code",
   "execution_count": 73,
   "source": [
    "# l = plt.imread(\"model/garbage-classification-dataset/Garbage classification/Garbage classification/cardboard/cardboard1.jpg\")\n",
    "#l = mpimg.imread(\"garbage-classification-dataset/garbage-classification/cardboard/cardboard1.jpg\")\n",
    "#l =  mpimg.imread(training[0])\n",
    "\n",
    "\n"
   ],
   "outputs": [],
   "metadata": {}
  }
 ],
 "metadata": {
  "orig_nbformat": 4,
  "language_info": {
   "name": "python",
   "version": "3.8.8",
   "mimetype": "text/x-python",
   "codemirror_mode": {
    "name": "ipython",
    "version": 3
   },
   "pygments_lexer": "ipython3",
   "nbconvert_exporter": "python",
   "file_extension": ".py"
  },
  "kernelspec": {
   "name": "python3",
   "display_name": "Python 3.8.8 64-bit ('base': conda)"
  },
  "interpreter": {
   "hash": "666cf513edf909c37313f79ef69f8260288f58ed921a04ed267078c71bd084bb"
  }
 },
 "nbformat": 4,
 "nbformat_minor": 2
}